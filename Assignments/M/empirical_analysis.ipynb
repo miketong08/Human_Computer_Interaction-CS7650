{
 "cells": [
  {
   "cell_type": "code",
   "execution_count": 1,
   "metadata": {},
   "outputs": [],
   "source": [
    "import pandas as pd\n",
    "import numpy as np\n",
    "\n",
    "import seaborn as sns\n",
    "import matplotlib.pyplot as plt\n",
    "sns.set_style('whitegrid')\n",
    "\n",
    "from scipy.stats import ttest_ind, f_oneway\n",
    "\n",
    "from warnings import filterwarnings\n",
    "filterwarnings('ignore')"
   ]
  },
  {
   "cell_type": "code",
   "execution_count": 2,
   "metadata": {},
   "outputs": [],
   "source": [
    "xlsx = pd.read_excel('empirical_data.xlsx', sheet_name=None)"
   ]
  },
  {
   "cell_type": "code",
   "execution_count": 3,
   "metadata": {},
   "outputs": [
    {
     "data": {
      "text/html": [
       "<div>\n",
       "<style scoped>\n",
       "    .dataframe tbody tr th:only-of-type {\n",
       "        vertical-align: middle;\n",
       "    }\n",
       "\n",
       "    .dataframe tbody tr th {\n",
       "        vertical-align: top;\n",
       "    }\n",
       "\n",
       "    .dataframe thead th {\n",
       "        text-align: right;\n",
       "    }\n",
       "</style>\n",
       "<table border=\"1\" class=\"dataframe\">\n",
       "  <thead>\n",
       "    <tr style=\"text-align: right;\">\n",
       "      <th></th>\n",
       "      <th>Dashboard</th>\n",
       "      <th>red_still</th>\n",
       "      <th>green_still</th>\n",
       "      <th>blue_still</th>\n",
       "      <th>white_still</th>\n",
       "      <th>red_flash</th>\n",
       "      <th>green_flash</th>\n",
       "      <th>blue_flash</th>\n",
       "      <th>white_flash</th>\n",
       "    </tr>\n",
       "  </thead>\n",
       "  <tbody>\n",
       "    <tr>\n",
       "      <th>0</th>\n",
       "      <td>1</td>\n",
       "      <td>7.0</td>\n",
       "      <td>1.4</td>\n",
       "      <td>1.0</td>\n",
       "      <td>2.4</td>\n",
       "      <td>0.9</td>\n",
       "      <td>0.7</td>\n",
       "      <td>0.7</td>\n",
       "      <td>1.6</td>\n",
       "    </tr>\n",
       "    <tr>\n",
       "      <th>1</th>\n",
       "      <td>2</td>\n",
       "      <td>1.3</td>\n",
       "      <td>1.3</td>\n",
       "      <td>1.5</td>\n",
       "      <td>1.6</td>\n",
       "      <td>0.9</td>\n",
       "      <td>1.4</td>\n",
       "      <td>0.9</td>\n",
       "      <td>10.3</td>\n",
       "    </tr>\n",
       "    <tr>\n",
       "      <th>2</th>\n",
       "      <td>3</td>\n",
       "      <td>0.9</td>\n",
       "      <td>13.4</td>\n",
       "      <td>0.7</td>\n",
       "      <td>1.1</td>\n",
       "      <td>0.7</td>\n",
       "      <td>0.7</td>\n",
       "      <td>0.8</td>\n",
       "      <td>0.9</td>\n",
       "    </tr>\n",
       "    <tr>\n",
       "      <th>3</th>\n",
       "      <td>4</td>\n",
       "      <td>1.6</td>\n",
       "      <td>9.0</td>\n",
       "      <td>1.8</td>\n",
       "      <td>8.6</td>\n",
       "      <td>1.2</td>\n",
       "      <td>2.2</td>\n",
       "      <td>1.5</td>\n",
       "      <td>2.2</td>\n",
       "    </tr>\n",
       "    <tr>\n",
       "      <th>4</th>\n",
       "      <td>5</td>\n",
       "      <td>1.4</td>\n",
       "      <td>0.7</td>\n",
       "      <td>1.9</td>\n",
       "      <td>0.8</td>\n",
       "      <td>0.8</td>\n",
       "      <td>0.9</td>\n",
       "      <td>1.2</td>\n",
       "      <td>1.1</td>\n",
       "    </tr>\n",
       "  </tbody>\n",
       "</table>\n",
       "</div>"
      ],
      "text/plain": [
       "   Dashboard  red_still  green_still  blue_still  white_still  red_flash  \\\n",
       "0          1        7.0          1.4         1.0          2.4        0.9   \n",
       "1          2        1.3          1.3         1.5          1.6        0.9   \n",
       "2          3        0.9         13.4         0.7          1.1        0.7   \n",
       "3          4        1.6          9.0         1.8          8.6        1.2   \n",
       "4          5        1.4          0.7         1.9          0.8        0.8   \n",
       "\n",
       "   green_flash  blue_flash  white_flash  \n",
       "0          0.7         0.7          1.6  \n",
       "1          1.4         0.9         10.3  \n",
       "2          0.7         0.8          0.9  \n",
       "3          2.2         1.5          2.2  \n",
       "4          0.9         1.2          1.1  "
      ]
     },
     "execution_count": 3,
     "metadata": {},
     "output_type": "execute_result"
    }
   ],
   "source": [
    "xlsx[list(xlsx.keys())[0]]"
   ]
  },
  {
   "cell_type": "code",
   "execution_count": 4,
   "metadata": {},
   "outputs": [],
   "source": [
    "df_compiled = pd.DataFrame()\n",
    "cols = xlsx[list(xlsx.keys())[0]].columns\n",
    "n_cols = []\n",
    "for sheet in xlsx:\n",
    "    n_cols.extend([i + '_' + sheet.lower() for i in cols[1:]])\n",
    "    df_compiled = pd.concat([df_compiled, xlsx[sheet].iloc[:, 1:]], axis=1)\n",
    "df_compiled.columns = n_cols"
   ]
  },
  {
   "cell_type": "code",
   "execution_count": 5,
   "metadata": {},
   "outputs": [
    {
     "data": {
      "text/html": [
       "<div>\n",
       "<style scoped>\n",
       "    .dataframe tbody tr th:only-of-type {\n",
       "        vertical-align: middle;\n",
       "    }\n",
       "\n",
       "    .dataframe tbody tr th {\n",
       "        vertical-align: top;\n",
       "    }\n",
       "\n",
       "    .dataframe thead th {\n",
       "        text-align: right;\n",
       "    }\n",
       "</style>\n",
       "<table border=\"1\" class=\"dataframe\">\n",
       "  <thead>\n",
       "    <tr style=\"text-align: right;\">\n",
       "      <th></th>\n",
       "      <th>red_still_dashboard</th>\n",
       "      <th>green_still_dashboard</th>\n",
       "      <th>blue_still_dashboard</th>\n",
       "      <th>white_still_dashboard</th>\n",
       "      <th>red_flash_dashboard</th>\n",
       "      <th>green_flash_dashboard</th>\n",
       "      <th>blue_flash_dashboard</th>\n",
       "      <th>white_flash_dashboard</th>\n",
       "      <th>red_still_b_pillar</th>\n",
       "      <th>green_still_b_pillar</th>\n",
       "      <th>...</th>\n",
       "      <th>blue_flash_b_pillar</th>\n",
       "      <th>white_flash_b_pillar</th>\n",
       "      <th>red_still_floor</th>\n",
       "      <th>green_still_floor</th>\n",
       "      <th>blue_still_floor</th>\n",
       "      <th>white_still_floor</th>\n",
       "      <th>red_flash_floor</th>\n",
       "      <th>green_flash_floor</th>\n",
       "      <th>blue_flash_floor</th>\n",
       "      <th>white_flash_floor</th>\n",
       "    </tr>\n",
       "  </thead>\n",
       "  <tbody>\n",
       "    <tr>\n",
       "      <th>0</th>\n",
       "      <td>7.0</td>\n",
       "      <td>1.4</td>\n",
       "      <td>1.0</td>\n",
       "      <td>2.4</td>\n",
       "      <td>0.9</td>\n",
       "      <td>0.7</td>\n",
       "      <td>0.7</td>\n",
       "      <td>1.6</td>\n",
       "      <td>1.0</td>\n",
       "      <td>0.8</td>\n",
       "      <td>...</td>\n",
       "      <td>0.8</td>\n",
       "      <td>0.7</td>\n",
       "      <td>1.6</td>\n",
       "      <td>1.3</td>\n",
       "      <td>0.9</td>\n",
       "      <td>6.3</td>\n",
       "      <td>0.9</td>\n",
       "      <td>0.7</td>\n",
       "      <td>0.9</td>\n",
       "      <td>1.2</td>\n",
       "    </tr>\n",
       "    <tr>\n",
       "      <th>1</th>\n",
       "      <td>1.3</td>\n",
       "      <td>1.3</td>\n",
       "      <td>1.5</td>\n",
       "      <td>1.6</td>\n",
       "      <td>0.9</td>\n",
       "      <td>1.4</td>\n",
       "      <td>0.9</td>\n",
       "      <td>10.3</td>\n",
       "      <td>1.1</td>\n",
       "      <td>0.7</td>\n",
       "      <td>...</td>\n",
       "      <td>1.1</td>\n",
       "      <td>1.3</td>\n",
       "      <td>2.0</td>\n",
       "      <td>1.1</td>\n",
       "      <td>1.1</td>\n",
       "      <td>2.2</td>\n",
       "      <td>0.7</td>\n",
       "      <td>0.9</td>\n",
       "      <td>0.8</td>\n",
       "      <td>0.8</td>\n",
       "    </tr>\n",
       "    <tr>\n",
       "      <th>2</th>\n",
       "      <td>0.9</td>\n",
       "      <td>13.4</td>\n",
       "      <td>0.7</td>\n",
       "      <td>1.1</td>\n",
       "      <td>0.7</td>\n",
       "      <td>0.7</td>\n",
       "      <td>0.8</td>\n",
       "      <td>0.9</td>\n",
       "      <td>0.7</td>\n",
       "      <td>0.7</td>\n",
       "      <td>...</td>\n",
       "      <td>0.5</td>\n",
       "      <td>1.0</td>\n",
       "      <td>0.8</td>\n",
       "      <td>0.8</td>\n",
       "      <td>0.7</td>\n",
       "      <td>0.9</td>\n",
       "      <td>0.8</td>\n",
       "      <td>0.9</td>\n",
       "      <td>0.8</td>\n",
       "      <td>1.2</td>\n",
       "    </tr>\n",
       "    <tr>\n",
       "      <th>3</th>\n",
       "      <td>1.6</td>\n",
       "      <td>9.0</td>\n",
       "      <td>1.8</td>\n",
       "      <td>8.6</td>\n",
       "      <td>1.2</td>\n",
       "      <td>2.2</td>\n",
       "      <td>1.5</td>\n",
       "      <td>2.2</td>\n",
       "      <td>0.9</td>\n",
       "      <td>1.0</td>\n",
       "      <td>...</td>\n",
       "      <td>0.7</td>\n",
       "      <td>0.9</td>\n",
       "      <td>1.1</td>\n",
       "      <td>0.9</td>\n",
       "      <td>0.9</td>\n",
       "      <td>0.9</td>\n",
       "      <td>0.7</td>\n",
       "      <td>0.8</td>\n",
       "      <td>0.7</td>\n",
       "      <td>0.9</td>\n",
       "    </tr>\n",
       "    <tr>\n",
       "      <th>4</th>\n",
       "      <td>1.4</td>\n",
       "      <td>0.7</td>\n",
       "      <td>1.9</td>\n",
       "      <td>0.8</td>\n",
       "      <td>0.8</td>\n",
       "      <td>0.9</td>\n",
       "      <td>1.2</td>\n",
       "      <td>1.1</td>\n",
       "      <td>0.9</td>\n",
       "      <td>1.1</td>\n",
       "      <td>...</td>\n",
       "      <td>0.8</td>\n",
       "      <td>0.9</td>\n",
       "      <td>1.2</td>\n",
       "      <td>1.0</td>\n",
       "      <td>1.2</td>\n",
       "      <td>1.7</td>\n",
       "      <td>0.8</td>\n",
       "      <td>0.8</td>\n",
       "      <td>0.7</td>\n",
       "      <td>8.2</td>\n",
       "    </tr>\n",
       "  </tbody>\n",
       "</table>\n",
       "<p>5 rows × 24 columns</p>\n",
       "</div>"
      ],
      "text/plain": [
       "   red_still_dashboard  green_still_dashboard  blue_still_dashboard  \\\n",
       "0                  7.0                    1.4                   1.0   \n",
       "1                  1.3                    1.3                   1.5   \n",
       "2                  0.9                   13.4                   0.7   \n",
       "3                  1.6                    9.0                   1.8   \n",
       "4                  1.4                    0.7                   1.9   \n",
       "\n",
       "   white_still_dashboard  red_flash_dashboard  green_flash_dashboard  \\\n",
       "0                    2.4                  0.9                    0.7   \n",
       "1                    1.6                  0.9                    1.4   \n",
       "2                    1.1                  0.7                    0.7   \n",
       "3                    8.6                  1.2                    2.2   \n",
       "4                    0.8                  0.8                    0.9   \n",
       "\n",
       "   blue_flash_dashboard  white_flash_dashboard  red_still_b_pillar  \\\n",
       "0                   0.7                    1.6                 1.0   \n",
       "1                   0.9                   10.3                 1.1   \n",
       "2                   0.8                    0.9                 0.7   \n",
       "3                   1.5                    2.2                 0.9   \n",
       "4                   1.2                    1.1                 0.9   \n",
       "\n",
       "   green_still_b_pillar        ...          blue_flash_b_pillar  \\\n",
       "0                   0.8        ...                          0.8   \n",
       "1                   0.7        ...                          1.1   \n",
       "2                   0.7        ...                          0.5   \n",
       "3                   1.0        ...                          0.7   \n",
       "4                   1.1        ...                          0.8   \n",
       "\n",
       "   white_flash_b_pillar  red_still_floor  green_still_floor  blue_still_floor  \\\n",
       "0                   0.7              1.6                1.3               0.9   \n",
       "1                   1.3              2.0                1.1               1.1   \n",
       "2                   1.0              0.8                0.8               0.7   \n",
       "3                   0.9              1.1                0.9               0.9   \n",
       "4                   0.9              1.2                1.0               1.2   \n",
       "\n",
       "   white_still_floor  red_flash_floor  green_flash_floor  blue_flash_floor  \\\n",
       "0                6.3              0.9                0.7               0.9   \n",
       "1                2.2              0.7                0.9               0.8   \n",
       "2                0.9              0.8                0.9               0.8   \n",
       "3                0.9              0.7                0.8               0.7   \n",
       "4                1.7              0.8                0.8               0.7   \n",
       "\n",
       "   white_flash_floor  \n",
       "0                1.2  \n",
       "1                0.8  \n",
       "2                1.2  \n",
       "3                0.9  \n",
       "4                8.2  \n",
       "\n",
       "[5 rows x 24 columns]"
      ]
     },
     "execution_count": 5,
     "metadata": {},
     "output_type": "execute_result"
    }
   ],
   "source": [
    "df_compiled.head()"
   ]
  },
  {
   "cell_type": "code",
   "execution_count": 6,
   "metadata": {},
   "outputs": [
    {
     "data": {
      "text/html": [
       "<div>\n",
       "<style scoped>\n",
       "    .dataframe tbody tr th:only-of-type {\n",
       "        vertical-align: middle;\n",
       "    }\n",
       "\n",
       "    .dataframe tbody tr th {\n",
       "        vertical-align: top;\n",
       "    }\n",
       "\n",
       "    .dataframe thead th {\n",
       "        text-align: right;\n",
       "    }\n",
       "</style>\n",
       "<table border=\"1\" class=\"dataframe\">\n",
       "  <thead>\n",
       "    <tr style=\"text-align: right;\">\n",
       "      <th></th>\n",
       "      <th>white_still_floor</th>\n",
       "      <th>white_flash_b_pillar</th>\n",
       "      <th>green_flash_dashboard</th>\n",
       "      <th>red_still_dashboard</th>\n",
       "      <th>blue_flash_b_pillar</th>\n",
       "    </tr>\n",
       "  </thead>\n",
       "  <tbody>\n",
       "    <tr>\n",
       "      <th>0</th>\n",
       "      <td>6.3</td>\n",
       "      <td>0.7</td>\n",
       "      <td>0.7</td>\n",
       "      <td>7.0</td>\n",
       "      <td>0.8</td>\n",
       "    </tr>\n",
       "    <tr>\n",
       "      <th>1</th>\n",
       "      <td>2.2</td>\n",
       "      <td>1.3</td>\n",
       "      <td>1.4</td>\n",
       "      <td>1.3</td>\n",
       "      <td>1.1</td>\n",
       "    </tr>\n",
       "    <tr>\n",
       "      <th>2</th>\n",
       "      <td>0.9</td>\n",
       "      <td>1.0</td>\n",
       "      <td>0.7</td>\n",
       "      <td>0.9</td>\n",
       "      <td>0.5</td>\n",
       "    </tr>\n",
       "    <tr>\n",
       "      <th>3</th>\n",
       "      <td>0.9</td>\n",
       "      <td>0.9</td>\n",
       "      <td>2.2</td>\n",
       "      <td>1.6</td>\n",
       "      <td>0.7</td>\n",
       "    </tr>\n",
       "    <tr>\n",
       "      <th>4</th>\n",
       "      <td>1.7</td>\n",
       "      <td>0.9</td>\n",
       "      <td>0.9</td>\n",
       "      <td>1.4</td>\n",
       "      <td>0.8</td>\n",
       "    </tr>\n",
       "  </tbody>\n",
       "</table>\n",
       "</div>"
      ],
      "text/plain": [
       "   white_still_floor  white_flash_b_pillar  green_flash_dashboard  \\\n",
       "0                6.3                   0.7                    0.7   \n",
       "1                2.2                   1.3                    1.4   \n",
       "2                0.9                   1.0                    0.7   \n",
       "3                0.9                   0.9                    2.2   \n",
       "4                1.7                   0.9                    0.9   \n",
       "\n",
       "   red_still_dashboard  blue_flash_b_pillar  \n",
       "0                  7.0                  0.8  \n",
       "1                  1.3                  1.1  \n",
       "2                  0.9                  0.5  \n",
       "3                  1.6                  0.7  \n",
       "4                  1.4                  0.8  "
      ]
     },
     "execution_count": 6,
     "metadata": {},
     "output_type": "execute_result"
    }
   ],
   "source": [
    "df_compiled.sample(5,axis=1)"
   ]
  },
  {
   "cell_type": "code",
   "execution_count": 7,
   "metadata": {},
   "outputs": [
    {
     "data": {
      "text/plain": [
       "0    1.512500\n",
       "1    1.850000\n",
       "2    1.358333\n",
       "3    1.754167\n",
       "4    1.437500\n",
       "dtype: float64"
      ]
     },
     "execution_count": 7,
     "metadata": {},
     "output_type": "execute_result"
    }
   ],
   "source": [
    "df_compiled.mean(axis=1)"
   ]
  },
  {
   "cell_type": "code",
   "execution_count": 8,
   "metadata": {},
   "outputs": [],
   "source": [
    "def get_data_by_keyword(df, keyword):\n",
    "    cols = [i for i in df.columns if i.endswith(keyword)]\n",
    "    return df[cols]\n",
    "\n",
    "def add_text(ax, nums):\n",
    "    '''Adds value counts above ax bars with given num counts\n",
    "    :param ax: seaborn axes object\n",
    "    :param nums: list of labels for the axes bars\n",
    "    \n",
    "    :return: none\n",
    "    '''\n",
    "    for i,p in enumerate(ax.patches):\n",
    "        ax.text(p.get_x() + p.get_width()/2.,\n",
    "                p.get_height() + 0.1,\n",
    "                nums[i],\n",
    "                ha='center')"
   ]
  },
  {
   "cell_type": "code",
   "execution_count": 9,
   "metadata": {},
   "outputs": [
    {
     "data": {
      "text/html": [
       "<div>\n",
       "<style scoped>\n",
       "    .dataframe tbody tr th:only-of-type {\n",
       "        vertical-align: middle;\n",
       "    }\n",
       "\n",
       "    .dataframe tbody tr th {\n",
       "        vertical-align: top;\n",
       "    }\n",
       "\n",
       "    .dataframe thead th {\n",
       "        text-align: right;\n",
       "    }\n",
       "</style>\n",
       "<table border=\"1\" class=\"dataframe\">\n",
       "  <thead>\n",
       "    <tr style=\"text-align: right;\">\n",
       "      <th></th>\n",
       "      <th>red_still_b_pillar</th>\n",
       "      <th>green_still_b_pillar</th>\n",
       "      <th>blue_still_b_pillar</th>\n",
       "      <th>white_still_b_pillar</th>\n",
       "      <th>red_flash_b_pillar</th>\n",
       "      <th>green_flash_b_pillar</th>\n",
       "      <th>blue_flash_b_pillar</th>\n",
       "      <th>white_flash_b_pillar</th>\n",
       "    </tr>\n",
       "  </thead>\n",
       "  <tbody>\n",
       "    <tr>\n",
       "      <th>0</th>\n",
       "      <td>1.0</td>\n",
       "      <td>0.8</td>\n",
       "      <td>1.2</td>\n",
       "      <td>0.9</td>\n",
       "      <td>0.7</td>\n",
       "      <td>0.7</td>\n",
       "      <td>0.8</td>\n",
       "      <td>0.7</td>\n",
       "    </tr>\n",
       "    <tr>\n",
       "      <th>1</th>\n",
       "      <td>1.1</td>\n",
       "      <td>0.7</td>\n",
       "      <td>0.8</td>\n",
       "      <td>8.8</td>\n",
       "      <td>1.0</td>\n",
       "      <td>0.8</td>\n",
       "      <td>1.1</td>\n",
       "      <td>1.3</td>\n",
       "    </tr>\n",
       "    <tr>\n",
       "      <th>2</th>\n",
       "      <td>0.7</td>\n",
       "      <td>0.7</td>\n",
       "      <td>0.9</td>\n",
       "      <td>1.3</td>\n",
       "      <td>0.7</td>\n",
       "      <td>0.7</td>\n",
       "      <td>0.5</td>\n",
       "      <td>1.0</td>\n",
       "    </tr>\n",
       "    <tr>\n",
       "      <th>3</th>\n",
       "      <td>0.9</td>\n",
       "      <td>1.0</td>\n",
       "      <td>1.3</td>\n",
       "      <td>0.8</td>\n",
       "      <td>0.7</td>\n",
       "      <td>0.8</td>\n",
       "      <td>0.7</td>\n",
       "      <td>0.9</td>\n",
       "    </tr>\n",
       "    <tr>\n",
       "      <th>4</th>\n",
       "      <td>0.9</td>\n",
       "      <td>1.1</td>\n",
       "      <td>0.8</td>\n",
       "      <td>4.0</td>\n",
       "      <td>0.8</td>\n",
       "      <td>0.8</td>\n",
       "      <td>0.8</td>\n",
       "      <td>0.9</td>\n",
       "    </tr>\n",
       "  </tbody>\n",
       "</table>\n",
       "</div>"
      ],
      "text/plain": [
       "   red_still_b_pillar  green_still_b_pillar  blue_still_b_pillar  \\\n",
       "0                 1.0                   0.8                  1.2   \n",
       "1                 1.1                   0.7                  0.8   \n",
       "2                 0.7                   0.7                  0.9   \n",
       "3                 0.9                   1.0                  1.3   \n",
       "4                 0.9                   1.1                  0.8   \n",
       "\n",
       "   white_still_b_pillar  red_flash_b_pillar  green_flash_b_pillar  \\\n",
       "0                   0.9                 0.7                   0.7   \n",
       "1                   8.8                 1.0                   0.8   \n",
       "2                   1.3                 0.7                   0.7   \n",
       "3                   0.8                 0.7                   0.8   \n",
       "4                   4.0                 0.8                   0.8   \n",
       "\n",
       "   blue_flash_b_pillar  white_flash_b_pillar  \n",
       "0                  0.8                   0.7  \n",
       "1                  1.1                   1.3  \n",
       "2                  0.5                   1.0  \n",
       "3                  0.7                   0.9  \n",
       "4                  0.8                   0.9  "
      ]
     },
     "execution_count": 9,
     "metadata": {},
     "output_type": "execute_result"
    }
   ],
   "source": [
    "get_data_by_keyword(df_compiled, 'b_pillar')"
   ]
  },
  {
   "cell_type": "code",
   "execution_count": 10,
   "metadata": {},
   "outputs": [],
   "source": [
    "v_flash = df_compiled[[i for i in df_compiled.columns if i.find('flash') != -1]].values.flatten()\n",
    "v_still = df_compiled[[i for i in df_compiled.columns if i.find('still') != -1]].values.flatten()"
   ]
  },
  {
   "cell_type": "code",
   "execution_count": 30,
   "metadata": {},
   "outputs": [
    {
     "data": {
      "image/png": "[encoded data removed]",
      "text/plain": [
       "<Figure size 432x288 with 1 Axes>"
      ]
     },
     "metadata": {
      "needs_background": "light"
     },
     "output_type": "display_data"
    }
   ],
   "source": [
    "f = sns.distplot(v_still, bins=3,\n",
    "             kde_kws={'label':'Still'})\n",
    "sns.distplot(v_flash, bins=3,\n",
    "             kde_kws={'label':'Flash'})\n",
    "f.set_title('Still light vs Flashing light')\n",
    "f.set_xlabel('Response time (s)')\n",
    "f.set_ylabel('KDE')\n",
    "# f.get_figure().savefig('./Images/empirical_lights/report/light_mode.png')\n",
    "None"
   ]
  },
  {
   "cell_type": "code",
   "execution_count": 12,
   "metadata": {},
   "outputs": [
    {
     "data": {
      "image/png": "[encoded data removed]",
      "text/plain": [
       "<Figure size 432x288 with 1 Axes>"
      ]
     },
     "metadata": {
      "needs_background": "light"
     },
     "output_type": "display_data"
    }
   ],
   "source": [
    "overall_mean = df_compiled.mean(axis=0).mean()\n",
    "s_count = len(v_still[v_still > overall_mean])\n",
    "f_count = len(v_flash[v_flash > overall_mean])\n",
    "f = sns.barplot(x=['Still', 'Flash'], y=[s_count, f_count])\n",
    "f.set_title('Count of Points Above Global Mean')\n",
    "f.set_xlabel('Mode')\n",
    "f.set_ylabel('Count')\n",
    "add_text(f, [s_count, f_count])\n",
    "f.get_figure().savefig('./Images/empirical_lights/report/still_vs_flash_mean.png')\n",
    "None"
   ]
  },
  {
   "cell_type": "code",
   "execution_count": 13,
   "metadata": {},
   "outputs": [],
   "source": [
    "db = get_data_by_keyword(df_compiled, 'dashboard')\n",
    "bp = get_data_by_keyword(df_compiled, 'b_pillar')\n",
    "fl = get_data_by_keyword(df_compiled, 'floor')\n",
    "db.columns = ['_'.join(i.split('_')[:2]) for i in db.columns]\n",
    "bp.columns = ['_'.join(i.split('_')[:2]) for i in bp.columns]\n",
    "fl.columns = ['_'.join(i.split('_')[:2]) for i in fl.columns]\n",
    "db['type'] = 'dash'\n",
    "bp['type'] = 'b_pillar'\n",
    "fl['type'] = 'floor'\n",
    "long = pd.concat([db,bp,fl])"
   ]
  },
  {
   "cell_type": "code",
   "execution_count": 14,
   "metadata": {},
   "outputs": [
    {
     "data": {
      "text/plain": [
       "array([1.56666667, 2.34666667, 1.11333333, 2.82      , 0.82      ,\n",
       "       0.92      , 0.86      , 2.21333333])"
      ]
     },
     "execution_count": 14,
     "metadata": {},
     "output_type": "execute_result"
    }
   ],
   "source": [
    "long.mean(axis=0).values"
   ]
  },
  {
   "cell_type": "code",
   "execution_count": 24,
   "metadata": {},
   "outputs": [
    {
     "data": {
      "image/png": "[encoded data removed]",
      "text/plain": [
       "<Figure size 432x288 with 1 Axes>"
      ]
     },
     "metadata": {
      "needs_background": "light"
     },
     "output_type": "display_data"
    }
   ],
   "source": [
    "f = sns.barplot(x=long.columns[:-1], y=long.mean(axis=0).values)\n",
    "[i.set_rotation(45) for i in f.get_xticklabels()]\n",
    "add_text(f, [round(i, 1) for i in long.mean(axis=0).values])\n",
    "f.set_title('Average Response time vs Color per Mode')\n",
    "f.set_xlabel('Lighting color and mode')\n",
    "f.set_ylabel('Average response time (s)')\n",
    "f = f.get_figure()\n",
    "f.tight_layout()\n",
    "f.savefig('./Images/empirical_lights/report/response_per_color_mode.png')\n",
    "None"
   ]
  },
  {
   "cell_type": "code",
   "execution_count": 21,
   "metadata": {},
   "outputs": [
    {
     "data": {
      "image/png": "[encoded data removed]",
      "text/plain": [
       "<Figure size 432x288 with 1 Axes>"
      ]
     },
     "metadata": {
      "needs_background": "light"
     },
     "output_type": "display_data"
    }
   ],
   "source": [
    "# ref: https://python-graph-gallery.com/11-grouped-barplot/\n",
    "# set width of bar\n",
    "barWidth = 0.2\n",
    " \n",
    "# set height of bar\n",
    "bars1 = db.mean(axis=0).values\n",
    "bars2 = bp.mean(axis=0).values\n",
    "bars3 = fl.mean(axis=0).values\n",
    "bars4 = long.mean(axis=0).values\n",
    " \n",
    "# Set position of bar on X axis\n",
    "r1 = np.arange(len(bars1))\n",
    "r2 = [x + barWidth for x in r1]\n",
    "r3 = [x + barWidth for x in r2]\n",
    "r4 = [x + barWidth for x in r3]\n",
    " \n",
    "# Make the plot\n",
    "plt.bar(r1, bars1, color='#ff6961', width=barWidth, edgecolor='white', label='Dashboard')\n",
    "plt.bar(r2, bars2, color='#77dd77', width=barWidth, edgecolor='white', label='B_Pillar')\n",
    "plt.bar(r3, bars3, color='#aec6cf', width=barWidth, edgecolor='white', label='Floor')\n",
    "plt.bar(r4, bars4, color='#000000', width=barWidth, edgecolor='white', label='Total Mean')\n",
    " \n",
    "# Add xticks on the middle of the group bars\n",
    "plt.xlabel('Color and Mode', fontweight='bold')\n",
    "plt.xticks([r + barWidth for r in range(len(bars1))], db.columns, rotation=45)\n",
    "plt.ylabel('Average Response Speed (s)')\n",
    "plt.title('Average Response Time per Color Per Location')\n",
    "# Create legend & Show graphic\n",
    "plt.legend()\n",
    "plt.tight_layout()\n",
    "plt.savefig('./Images/empirical_lights/report/response_per_color_per_location.png')"
   ]
  },
  {
   "cell_type": "code",
   "execution_count": 17,
   "metadata": {},
   "outputs": [],
   "source": [
    "r = df_compiled[[i for i in df_compiled.columns if i.startswith('red')]]\n",
    "g = df_compiled[[i for i in df_compiled.columns if i.startswith('green')]]\n",
    "b = df_compiled[[i for i in df_compiled.columns if i.startswith('blue')]]\n",
    "w = df_compiled[[i for i in df_compiled.columns if i.startswith('white')]]\n"
   ]
  },
  {
   "cell_type": "code",
   "execution_count": 25,
   "metadata": {},
   "outputs": [
    {
     "data": {
      "image/png": "[encoded data removed]",
      "text/plain": [
       "<Figure size 432x288 with 1 Axes>"
      ]
     },
     "metadata": {
      "needs_background": "light"
     },
     "output_type": "display_data"
    }
   ],
   "source": [
    "y_vals = [np.mean(r.values), np.mean(g.values), np.mean(b.values), np.mean(w.values)]\n",
    "f = sns.barplot(x=['Red', 'Green', 'Blue', 'White'], \n",
    "                y=y_vals)\n",
    "[i.set_rotation(45) for i in f.get_xticklabels()]\n",
    "add_text(f, [round(i, 1) for i in y_vals])\n",
    "f.set_title('Average Response Time per Color')\n",
    "f.set_xlabel('Color')\n",
    "f.set_ylabel('Average Response Time (s)')\n",
    "f = f.get_figure()\n",
    "f.tight_layout()\n",
    "f.savefig('./Images/empirical_lights/report/response_time_per_color.png')\n",
    "None"
   ]
  },
  {
   "cell_type": "code",
   "execution_count": 40,
   "metadata": {},
   "outputs": [
    {
     "data": {
      "text/plain": [
       "2.275"
      ]
     },
     "execution_count": 40,
     "metadata": {},
     "output_type": "execute_result"
    }
   ],
   "source": [
    "db.iloc[:,:-1].values.flatten().mean()"
   ]
  },
  {
   "cell_type": "code",
   "execution_count": 42,
   "metadata": {},
   "outputs": [
    {
     "data": {
      "image/png": "[encoded data removed]",
      "text/plain": [
       "<Figure size 432x288 with 1 Axes>"
      ]
     },
     "metadata": {
      "needs_background": "light"
     },
     "output_type": "display_data"
    }
   ],
   "source": [
    "y_vals = [db.iloc[:,:-1].values.flatten().mean(), \n",
    "          bp.iloc[:,:-1].values.flatten().mean(), \n",
    "          fl.iloc[:,:-1].values.flatten().mean()]\n",
    "f = sns.barplot(x=['Dashboard', 'B-Pillar', 'Floor'], \n",
    "                y=y_vals)\n",
    "[i.set_rotation(45) for i in f.get_xticklabels()]\n",
    "add_text(f, [round(i, 1) for i in y_vals])\n",
    "f.set_title('Average Response Time per Location')\n",
    "f.set_xlabel('Location')\n",
    "f.set_ylabel('Average Response Time (s)')\n",
    "f = f.get_figure()\n",
    "f.tight_layout()\n",
    "f.savefig('./Images/empirical_lights/report/response_time_per_location.png')\n",
    "None"
   ]
  },
  {
   "cell_type": "code",
   "execution_count": 43,
   "metadata": {},
   "outputs": [],
   "source": [
    "mode_t, mode_p = ttest_ind(v_still, v_flash)\n",
    "\n",
    "location_F, location_p = f_oneway(db.iloc[:, :-1].values.flatten(), \n",
    "                                  bp.iloc[:, :-1].values.flatten(), \n",
    "                                  fl.iloc[:, :-1].values.flatten())\n",
    "\n",
    "location_t_nd, location_p_nd = ttest_ind(bp.iloc[:, :-1].values.flatten(), \n",
    "                                         fl.iloc[:, :-1].values.flatten())\n",
    "\n",
    "color_F, color_p = f_oneway(r.values.flatten(), \n",
    "                            g.values.flatten(), \n",
    "                            b.values.flatten(), \n",
    "                            w.values.flatten())\n",
    "\n",
    "color_F_nw, color_p_nw = f_oneway(r.values.flatten(), \n",
    "                                  g.values.flatten(), \n",
    "                                  b.values.flatten())"
   ]
  },
  {
   "cell_type": "code",
   "execution_count": 44,
   "metadata": {},
   "outputs": [
    {
     "name": "stdout",
     "output_type": "stream",
     "text": [
      "t statistic for still vs flashing is: 2.006\n",
      "p value for still vs flashing is : 0.047\n",
      "~~~~\n",
      "F statistic for car location is: 3.477\n",
      "p value for car location is: 0.034\n",
      "~~~~\n",
      "F statistic for car location without the dash is: -0.538\n",
      "p value for car location without the dash is: 0.592\n",
      "~~~~\n",
      "F statistic for indicator color is: 3.329\n",
      "p value for indicator color is: 0.022\n",
      "~~~~\n",
      "F statistic for indicator color without white is: 1.139\n",
      "p value for indicator color without white is: 0.325\n"
     ]
    }
   ],
   "source": [
    "print('t statistic for still vs flashing is: {:.3f}'.format(mode_t))\n",
    "print('p value for still vs flashing is : {:.3f}'.format(mode_p))\n",
    "print('~~~~')\n",
    "print('F statistic for car location is: {:.3f}'.format(location_F))\n",
    "print('p value for car location is: {:.3f}'.format(location_p))\n",
    "print('~~~~')\n",
    "print('F statistic for car location without the dash is: {:.3f}'.format(location_t_nd))\n",
    "print('p value for car location without the dash is: {:.3f}'.format(location_p_nd))\n",
    "print('~~~~')\n",
    "print('F statistic for indicator color is: {:.3f}'.format(color_F))\n",
    "print('p value for indicator color is: {:.3f}'.format(color_p))\n",
    "print('~~~~')\n",
    "print('F statistic for indicator color without white is: {:.3f}'.format(color_F_nw))\n",
    "print('p value for indicator color without white is: {:.3f}'.format(color_p_nw))"
   ]
  }
 ],
 "metadata": {
  "kernelspec": {
   "display_name": "Python 3",
   "language": "python",
   "name": "python3"
  },
  "language_info": {
   "codemirror_mode": {
    "name": "ipython",
    "version": 3
   },
   "file_extension": ".py",
   "mimetype": "text/x-python",
   "name": "python",
   "nbconvert_exporter": "python",
   "pygments_lexer": "ipython3",
   "version": "3.6.7"
  }
 },
 "nbformat": 4,
 "nbformat_minor": 2
}
