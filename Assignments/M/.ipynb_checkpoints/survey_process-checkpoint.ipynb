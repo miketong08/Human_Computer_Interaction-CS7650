{
 "cells": [
  {
   "cell_type": "code",
   "execution_count": 23,
   "metadata": {},
   "outputs": [],
   "source": [
    "import pandas as pd\n",
    "import numpy as np\n",
    "import seaborn as sns\n",
    "import matplotlib.pyplot as plt\n",
    "import os"
   ]
  },
  {
   "cell_type": "code",
   "execution_count": 11,
   "metadata": {},
   "outputs": [],
   "source": [
    "df = pd.read_csv(\"./surveyData/survey_data.csv\")"
   ]
  },
  {
   "cell_type": "code",
   "execution_count": 24,
   "metadata": {},
   "outputs": [
    {
     "data": {
      "text/html": [
       "<div>\n",
       "<style scoped>\n",
       "    .dataframe tbody tr th:only-of-type {\n",
       "        vertical-align: middle;\n",
       "    }\n",
       "\n",
       "    .dataframe tbody tr th {\n",
       "        vertical-align: top;\n",
       "    }\n",
       "\n",
       "    .dataframe thead th {\n",
       "        text-align: right;\n",
       "    }\n",
       "</style>\n",
       "<table border=\"1\" class=\"dataframe\">\n",
       "  <thead>\n",
       "    <tr style=\"text-align: right;\">\n",
       "      <th></th>\n",
       "      <th>response</th>\n",
       "      <th>Q1</th>\n",
       "      <th>Q2</th>\n",
       "      <th>Q3</th>\n",
       "      <th>Q4</th>\n",
       "      <th>Q5</th>\n",
       "      <th>Q6</th>\n",
       "      <th>Q7</th>\n",
       "      <th>Q8</th>\n",
       "      <th>Q9</th>\n",
       "      <th>Q10</th>\n",
       "      <th>Q11</th>\n",
       "    </tr>\n",
       "  </thead>\n",
       "  <tbody>\n",
       "    <tr>\n",
       "      <th>10</th>\n",
       "      <td>11</td>\n",
       "      <td>18 - 29</td>\n",
       "      <td>Male</td>\n",
       "      <td>Driver</td>\n",
       "      <td>I usually drive 5 or more over the speed limit</td>\n",
       "      <td>Speedometer</td>\n",
       "      <td>Defensive</td>\n",
       "      <td>Yes</td>\n",
       "      <td>Yes</td>\n",
       "      <td>Yes</td>\n",
       "      <td>No</td>\n",
       "      <td>Yes</td>\n",
       "    </tr>\n",
       "    <tr>\n",
       "      <th>12</th>\n",
       "      <td>13</td>\n",
       "      <td>30 - 39</td>\n",
       "      <td>Male</td>\n",
       "      <td>Passenger</td>\n",
       "      <td>I usually drive 5 or more over the speed limit</td>\n",
       "      <td>Radio</td>\n",
       "      <td>Defensive</td>\n",
       "      <td>Yes</td>\n",
       "      <td>Yes</td>\n",
       "      <td>Yes</td>\n",
       "      <td>Yes</td>\n",
       "      <td>Yes</td>\n",
       "    </tr>\n",
       "    <tr>\n",
       "      <th>2</th>\n",
       "      <td>3</td>\n",
       "      <td>18 - 29</td>\n",
       "      <td>Male</td>\n",
       "      <td>Driver</td>\n",
       "      <td>I usually drive 5 or more over the speed limit</td>\n",
       "      <td>speedometer</td>\n",
       "      <td>Aggressive</td>\n",
       "      <td>Yes</td>\n",
       "      <td>Yes</td>\n",
       "      <td>Yes</td>\n",
       "      <td>Yes</td>\n",
       "      <td>Yes</td>\n",
       "    </tr>\n",
       "  </tbody>\n",
       "</table>\n",
       "</div>"
      ],
      "text/plain": [
       "    response       Q1    Q2         Q3  \\\n",
       "10        11  18 - 29  Male     Driver   \n",
       "12        13  30 - 39  Male  Passenger   \n",
       "2          3  18 - 29  Male     Driver   \n",
       "\n",
       "                                                Q4           Q5          Q6  \\\n",
       "10  I usually drive 5 or more over the speed limit  Speedometer   Defensive   \n",
       "12  I usually drive 5 or more over the speed limit        Radio   Defensive   \n",
       "2   I usually drive 5 or more over the speed limit  speedometer  Aggressive   \n",
       "\n",
       "     Q7   Q8   Q9  Q10  Q11  \n",
       "10  Yes  Yes  Yes   No  Yes  \n",
       "12  Yes  Yes  Yes  Yes  Yes  \n",
       "2   Yes  Yes  Yes  Yes  Yes  "
      ]
     },
     "execution_count": 24,
     "metadata": {},
     "output_type": "execute_result"
    }
   ],
   "source": [
    "df.sample(3)"
   ]
  },
  {
   "cell_type": "code",
   "execution_count": 30,
   "metadata": {},
   "outputs": [
    {
     "data": {
      "text/plain": [
       "array(['I usually drive 5 or more over the speed limit',\n",
       "       'I usually drive 5 or more under the speed limit',\n",
       "       'I usually drive around the speed limit'], dtype=object)"
      ]
     },
     "execution_count": 30,
     "metadata": {},
     "output_type": "execute_result"
    }
   ],
   "source": [
    "tmp = np.unique(df['Q4'])\n",
    "tmp"
   ]
  },
  {
   "cell_type": "code",
   "execution_count": 32,
   "metadata": {},
   "outputs": [],
   "source": [
    "df.replace(to_replace=tmp, \n",
    "           value=['5 over', '5 under', 'around limit'], inplace=True)"
   ]
  },
  {
   "cell_type": "code",
   "execution_count": 51,
   "metadata": {},
   "outputs": [
    {
     "ename": "SyntaxError",
     "evalue": "invalid syntax (<ipython-input-51-13fae4ac8642>, line 1)",
     "output_type": "error",
     "traceback": [
      "\u001b[0;36m  File \u001b[0;32m\"<ipython-input-51-13fae4ac8642>\"\u001b[0;36m, line \u001b[0;32m1\u001b[0m\n\u001b[0;31m    def get_question(n): [yield i for i in range(n)]\u001b[0m\n\u001b[0m                              ^\u001b[0m\n\u001b[0;31mSyntaxError\u001b[0m\u001b[0;31m:\u001b[0m invalid syntax\n"
     ]
    }
   ],
   "source": [
    "def get_question_nums(num_questions): \n",
    "    for i in range(1,num_questions+1):\n",
    "        if i == 5: continue\n",
    "        else:\n",
    "            yield i\n",
    "\n",
    "gen = get_question_nums(11)\n",
    "for i in range(3):\n",
    "    for j in range(3):\n",
    "        q_num = next(gen)\n",
    "        f = sns.countplot(x='Q1',data=df)\n",
    "        f.set_xlabel('Age Group')\n",
    "        f.set_title('Q1 Responses')"
   ]
  },
  {
   "cell_type": "code",
   "execution_count": 22,
   "metadata": {},
   "outputs": [
    {
     "name": "stdout",
     "output_type": "stream",
     "text": [
      "('18 - 29', 12)\n",
      "('30 - 39', 7)\n",
      "('40 - 49', 3)\n"
     ]
    },
    {
     "data": {
      "image/png": "[encoded data removed]",
      "text/plain": [
       "<Figure size 432x288 with 1 Axes>"
      ]
     },
     "metadata": {
      "needs_background": "light"
     },
     "output_type": "display_data"
    }
   ],
   "source": [
    "# Question 1: What is your age?\n",
    "# Question 2: What is your gender? \n",
    "# Question 3: Do you prefer to drive or be a passenger?\n",
    "# Question 4: Do you follow speed limits?\n",
    "# Question 6: Would you consider yourself a defensive or aggressive driver?\n",
    "# Question 5: What part of a car’s visual interface do you focus on the most?\n",
    "q1_v, q1_c = np.unique(df['Q1'], return_counts=True)\n",
    "[print(i) for i in zip(q1_v, q1_c)]\n",
    "\n",
    "for i in range(3):\n",
    "    for j in range(3):\n",
    "        f = sns.countplot(x='Q1',data=df)\n",
    "        f.set_xlabel('Age Group')\n",
    "        f.set_title('Q1 Responses')"
   ]
  },
  {
   "cell_type": "code",
   "execution_count": null,
   "metadata": {},
   "outputs": [],
   "source": [
    "fig, ax = plt.subplots(nrows=3, ncols=3)"
   ]
  }
 ],
 "metadata": {
  "kernelspec": {
   "display_name": "Python 3",
   "language": "python",
   "name": "python3"
  },
  "language_info": {
   "codemirror_mode": {
    "name": "ipython",
    "version": 3
   },
   "file_extension": ".py",
   "mimetype": "text/x-python",
   "name": "python",
   "nbconvert_exporter": "python",
   "pygments_lexer": "ipython3",
   "version": "3.7.1"
  }
 },
 "nbformat": 4,
 "nbformat_minor": 2
}
